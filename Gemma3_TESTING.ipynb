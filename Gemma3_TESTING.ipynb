{
  "nbformat": 4,
  "nbformat_minor": 0,
  "metadata": {
    "colab": {
      "provenance": [],
      "gpuType": "T4",
      "authorship_tag": "ABX9TyNr4pwYPfZ5khgLBLG29ucp",
      "include_colab_link": true
    },
    "kernelspec": {
      "name": "python3",
      "display_name": "Python 3"
    },
    "language_info": {
      "name": "python"
    },
    "accelerator": "GPU",
    "widgets": {
      "application/vnd.jupyter.widget-state+json": {
        "6b86f726e336467bb84f1d636569ead1": {
          "model_module": "@jupyter-widgets/controls",
          "model_name": "HBoxModel",
          "model_module_version": "1.5.0",
          "state": {
            "_dom_classes": [],
            "_model_module": "@jupyter-widgets/controls",
            "_model_module_version": "1.5.0",
            "_model_name": "HBoxModel",
            "_view_count": null,
            "_view_module": "@jupyter-widgets/controls",
            "_view_module_version": "1.5.0",
            "_view_name": "HBoxView",
            "box_style": "",
            "children": [
              "IPY_MODEL_8a3e6328465c40bc89b577ac6b548205",
              "IPY_MODEL_f7f7d937bc0e45e288bb023bc2914302",
              "IPY_MODEL_5c798c9e4a5647e289ef30b417e9b44b"
            ],
            "layout": "IPY_MODEL_35dd56fdd17143b1a78119fc4527e05c"
          }
        },
        "8a3e6328465c40bc89b577ac6b548205": {
          "model_module": "@jupyter-widgets/controls",
          "model_name": "HTMLModel",
          "model_module_version": "1.5.0",
          "state": {
            "_dom_classes": [],
            "_model_module": "@jupyter-widgets/controls",
            "_model_module_version": "1.5.0",
            "_model_name": "HTMLModel",
            "_view_count": null,
            "_view_module": "@jupyter-widgets/controls",
            "_view_module_version": "1.5.0",
            "_view_name": "HTMLView",
            "description": "",
            "description_tooltip": null,
            "layout": "IPY_MODEL_3b1a244c28754b3b911cc96171410dae",
            "placeholder": "​",
            "style": "IPY_MODEL_19483adb4cb34a8f99bb8e009c0e0fed",
            "value": "Loading checkpoint shards: 100%"
          }
        },
        "f7f7d937bc0e45e288bb023bc2914302": {
          "model_module": "@jupyter-widgets/controls",
          "model_name": "FloatProgressModel",
          "model_module_version": "1.5.0",
          "state": {
            "_dom_classes": [],
            "_model_module": "@jupyter-widgets/controls",
            "_model_module_version": "1.5.0",
            "_model_name": "FloatProgressModel",
            "_view_count": null,
            "_view_module": "@jupyter-widgets/controls",
            "_view_module_version": "1.5.0",
            "_view_name": "ProgressView",
            "bar_style": "success",
            "description": "",
            "description_tooltip": null,
            "layout": "IPY_MODEL_a1823b2e528e46fdb782b1bcb98dfd8a",
            "max": 2,
            "min": 0,
            "orientation": "horizontal",
            "style": "IPY_MODEL_e1598004addc414db6e262b1e95722c2",
            "value": 2
          }
        },
        "5c798c9e4a5647e289ef30b417e9b44b": {
          "model_module": "@jupyter-widgets/controls",
          "model_name": "HTMLModel",
          "model_module_version": "1.5.0",
          "state": {
            "_dom_classes": [],
            "_model_module": "@jupyter-widgets/controls",
            "_model_module_version": "1.5.0",
            "_model_name": "HTMLModel",
            "_view_count": null,
            "_view_module": "@jupyter-widgets/controls",
            "_view_module_version": "1.5.0",
            "_view_name": "HTMLView",
            "description": "",
            "description_tooltip": null,
            "layout": "IPY_MODEL_d6a2973c5e924c12a9817d72f7f82f93",
            "placeholder": "​",
            "style": "IPY_MODEL_4ff929c155ba4171a29f04816cae324c",
            "value": " 2/2 [00:01&lt;00:00,  2.06it/s]"
          }
        },
        "35dd56fdd17143b1a78119fc4527e05c": {
          "model_module": "@jupyter-widgets/base",
          "model_name": "LayoutModel",
          "model_module_version": "1.2.0",
          "state": {
            "_model_module": "@jupyter-widgets/base",
            "_model_module_version": "1.2.0",
            "_model_name": "LayoutModel",
            "_view_count": null,
            "_view_module": "@jupyter-widgets/base",
            "_view_module_version": "1.2.0",
            "_view_name": "LayoutView",
            "align_content": null,
            "align_items": null,
            "align_self": null,
            "border": null,
            "bottom": null,
            "display": null,
            "flex": null,
            "flex_flow": null,
            "grid_area": null,
            "grid_auto_columns": null,
            "grid_auto_flow": null,
            "grid_auto_rows": null,
            "grid_column": null,
            "grid_gap": null,
            "grid_row": null,
            "grid_template_areas": null,
            "grid_template_columns": null,
            "grid_template_rows": null,
            "height": null,
            "justify_content": null,
            "justify_items": null,
            "left": null,
            "margin": null,
            "max_height": null,
            "max_width": null,
            "min_height": null,
            "min_width": null,
            "object_fit": null,
            "object_position": null,
            "order": null,
            "overflow": null,
            "overflow_x": null,
            "overflow_y": null,
            "padding": null,
            "right": null,
            "top": null,
            "visibility": null,
            "width": null
          }
        },
        "3b1a244c28754b3b911cc96171410dae": {
          "model_module": "@jupyter-widgets/base",
          "model_name": "LayoutModel",
          "model_module_version": "1.2.0",
          "state": {
            "_model_module": "@jupyter-widgets/base",
            "_model_module_version": "1.2.0",
            "_model_name": "LayoutModel",
            "_view_count": null,
            "_view_module": "@jupyter-widgets/base",
            "_view_module_version": "1.2.0",
            "_view_name": "LayoutView",
            "align_content": null,
            "align_items": null,
            "align_self": null,
            "border": null,
            "bottom": null,
            "display": null,
            "flex": null,
            "flex_flow": null,
            "grid_area": null,
            "grid_auto_columns": null,
            "grid_auto_flow": null,
            "grid_auto_rows": null,
            "grid_column": null,
            "grid_gap": null,
            "grid_row": null,
            "grid_template_areas": null,
            "grid_template_columns": null,
            "grid_template_rows": null,
            "height": null,
            "justify_content": null,
            "justify_items": null,
            "left": null,
            "margin": null,
            "max_height": null,
            "max_width": null,
            "min_height": null,
            "min_width": null,
            "object_fit": null,
            "object_position": null,
            "order": null,
            "overflow": null,
            "overflow_x": null,
            "overflow_y": null,
            "padding": null,
            "right": null,
            "top": null,
            "visibility": null,
            "width": null
          }
        },
        "19483adb4cb34a8f99bb8e009c0e0fed": {
          "model_module": "@jupyter-widgets/controls",
          "model_name": "DescriptionStyleModel",
          "model_module_version": "1.5.0",
          "state": {
            "_model_module": "@jupyter-widgets/controls",
            "_model_module_version": "1.5.0",
            "_model_name": "DescriptionStyleModel",
            "_view_count": null,
            "_view_module": "@jupyter-widgets/base",
            "_view_module_version": "1.2.0",
            "_view_name": "StyleView",
            "description_width": ""
          }
        },
        "a1823b2e528e46fdb782b1bcb98dfd8a": {
          "model_module": "@jupyter-widgets/base",
          "model_name": "LayoutModel",
          "model_module_version": "1.2.0",
          "state": {
            "_model_module": "@jupyter-widgets/base",
            "_model_module_version": "1.2.0",
            "_model_name": "LayoutModel",
            "_view_count": null,
            "_view_module": "@jupyter-widgets/base",
            "_view_module_version": "1.2.0",
            "_view_name": "LayoutView",
            "align_content": null,
            "align_items": null,
            "align_self": null,
            "border": null,
            "bottom": null,
            "display": null,
            "flex": null,
            "flex_flow": null,
            "grid_area": null,
            "grid_auto_columns": null,
            "grid_auto_flow": null,
            "grid_auto_rows": null,
            "grid_column": null,
            "grid_gap": null,
            "grid_row": null,
            "grid_template_areas": null,
            "grid_template_columns": null,
            "grid_template_rows": null,
            "height": null,
            "justify_content": null,
            "justify_items": null,
            "left": null,
            "margin": null,
            "max_height": null,
            "max_width": null,
            "min_height": null,
            "min_width": null,
            "object_fit": null,
            "object_position": null,
            "order": null,
            "overflow": null,
            "overflow_x": null,
            "overflow_y": null,
            "padding": null,
            "right": null,
            "top": null,
            "visibility": null,
            "width": null
          }
        },
        "e1598004addc414db6e262b1e95722c2": {
          "model_module": "@jupyter-widgets/controls",
          "model_name": "ProgressStyleModel",
          "model_module_version": "1.5.0",
          "state": {
            "_model_module": "@jupyter-widgets/controls",
            "_model_module_version": "1.5.0",
            "_model_name": "ProgressStyleModel",
            "_view_count": null,
            "_view_module": "@jupyter-widgets/base",
            "_view_module_version": "1.2.0",
            "_view_name": "StyleView",
            "bar_color": null,
            "description_width": ""
          }
        },
        "d6a2973c5e924c12a9817d72f7f82f93": {
          "model_module": "@jupyter-widgets/base",
          "model_name": "LayoutModel",
          "model_module_version": "1.2.0",
          "state": {
            "_model_module": "@jupyter-widgets/base",
            "_model_module_version": "1.2.0",
            "_model_name": "LayoutModel",
            "_view_count": null,
            "_view_module": "@jupyter-widgets/base",
            "_view_module_version": "1.2.0",
            "_view_name": "LayoutView",
            "align_content": null,
            "align_items": null,
            "align_self": null,
            "border": null,
            "bottom": null,
            "display": null,
            "flex": null,
            "flex_flow": null,
            "grid_area": null,
            "grid_auto_columns": null,
            "grid_auto_flow": null,
            "grid_auto_rows": null,
            "grid_column": null,
            "grid_gap": null,
            "grid_row": null,
            "grid_template_areas": null,
            "grid_template_columns": null,
            "grid_template_rows": null,
            "height": null,
            "justify_content": null,
            "justify_items": null,
            "left": null,
            "margin": null,
            "max_height": null,
            "max_width": null,
            "min_height": null,
            "min_width": null,
            "object_fit": null,
            "object_position": null,
            "order": null,
            "overflow": null,
            "overflow_x": null,
            "overflow_y": null,
            "padding": null,
            "right": null,
            "top": null,
            "visibility": null,
            "width": null
          }
        },
        "4ff929c155ba4171a29f04816cae324c": {
          "model_module": "@jupyter-widgets/controls",
          "model_name": "DescriptionStyleModel",
          "model_module_version": "1.5.0",
          "state": {
            "_model_module": "@jupyter-widgets/controls",
            "_model_module_version": "1.5.0",
            "_model_name": "DescriptionStyleModel",
            "_view_count": null,
            "_view_module": "@jupyter-widgets/base",
            "_view_module_version": "1.2.0",
            "_view_name": "StyleView",
            "description_width": ""
          }
        }
      }
    }
  },
  "cells": [
    {
      "cell_type": "markdown",
      "metadata": {
        "id": "view-in-github",
        "colab_type": "text"
      },
      "source": [
        "<a href=\"https://colab.research.google.com/github/ArkS0001/VQA--Visual-Question-Answering/blob/main/Gemma3_TESTING.ipynb\" target=\"_parent\"><img src=\"https://colab.research.google.com/assets/colab-badge.svg\" alt=\"Open In Colab\"/></a>"
      ]
    },
    {
      "cell_type": "code",
      "execution_count": 1,
      "metadata": {
        "colab": {
          "base_uri": "https://localhost:8080/"
        },
        "id": "CpsApjxDfJ3o",
        "outputId": "cbddf75f-cdd0-4fb1-8858-74652cb15589"
      },
      "outputs": [
        {
          "output_type": "stream",
          "name": "stdout",
          "text": [
            "The token has not been saved to the git credentials helper. Pass `add_to_git_credential=True` in this function directly or `--add-to-git-credential` if using via `huggingface-cli` if you want to set the git credential as well.\n",
            "Token is valid (permission: fineGrained).\n",
            "The token `Flipkart` has been saved to /root/.cache/huggingface/stored_tokens\n",
            "Your token has been saved to /root/.cache/huggingface/token\n",
            "Login successful.\n",
            "The current active token is: `Flipkart`\n"
          ]
        }
      ],
      "source": [
        "!huggingface-cli login --token hf_"
      ]
    },
    {
      "cell_type": "code",
      "source": [
        "pip install git+https://github.com/huggingface/transformers@v4.49.0-Gemma-3\n"
      ],
      "metadata": {
        "colab": {
          "base_uri": "https://localhost:8080/"
        },
        "id": "M5cybS-BfbsS",
        "outputId": "85f0ac28-b8da-4d6b-8d8a-59b6e5c7a94f"
      },
      "execution_count": 2,
      "outputs": [
        {
          "output_type": "stream",
          "name": "stdout",
          "text": [
            "Collecting git+https://github.com/huggingface/transformers@v4.49.0-Gemma-3\n",
            "  Cloning https://github.com/huggingface/transformers (to revision v4.49.0-Gemma-3) to /tmp/pip-req-build-k5a8mzed\n",
            "  Running command git clone --filter=blob:none --quiet https://github.com/huggingface/transformers /tmp/pip-req-build-k5a8mzed\n",
            "  Running command git checkout -q 1c0f782fe5f983727ff245c4c1b3906f9b99eec2\n",
            "  Resolved https://github.com/huggingface/transformers to commit 1c0f782fe5f983727ff245c4c1b3906f9b99eec2\n",
            "  Installing build dependencies ... \u001b[?25l\u001b[?25hdone\n",
            "  Getting requirements to build wheel ... \u001b[?25l\u001b[?25hdone\n",
            "  Preparing metadata (pyproject.toml) ... \u001b[?25l\u001b[?25hdone\n",
            "Requirement already satisfied: filelock in /usr/local/lib/python3.11/dist-packages (from transformers==4.50.0.dev0) (3.17.0)\n",
            "Requirement already satisfied: huggingface-hub<1.0,>=0.26.0 in /usr/local/lib/python3.11/dist-packages (from transformers==4.50.0.dev0) (0.28.1)\n",
            "Requirement already satisfied: numpy>=1.17 in /usr/local/lib/python3.11/dist-packages (from transformers==4.50.0.dev0) (1.26.4)\n",
            "Requirement already satisfied: packaging>=20.0 in /usr/local/lib/python3.11/dist-packages (from transformers==4.50.0.dev0) (24.2)\n",
            "Requirement already satisfied: pyyaml>=5.1 in /usr/local/lib/python3.11/dist-packages (from transformers==4.50.0.dev0) (6.0.2)\n",
            "Requirement already satisfied: regex!=2019.12.17 in /usr/local/lib/python3.11/dist-packages (from transformers==4.50.0.dev0) (2024.11.6)\n",
            "Requirement already satisfied: requests in /usr/local/lib/python3.11/dist-packages (from transformers==4.50.0.dev0) (2.32.3)\n",
            "Requirement already satisfied: tokenizers<0.22,>=0.21 in /usr/local/lib/python3.11/dist-packages (from transformers==4.50.0.dev0) (0.21.0)\n",
            "Requirement already satisfied: safetensors>=0.4.1 in /usr/local/lib/python3.11/dist-packages (from transformers==4.50.0.dev0) (0.5.3)\n",
            "Requirement already satisfied: tqdm>=4.27 in /usr/local/lib/python3.11/dist-packages (from transformers==4.50.0.dev0) (4.67.1)\n",
            "Requirement already satisfied: fsspec>=2023.5.0 in /usr/local/lib/python3.11/dist-packages (from huggingface-hub<1.0,>=0.26.0->transformers==4.50.0.dev0) (2024.10.0)\n",
            "Requirement already satisfied: typing-extensions>=3.7.4.3 in /usr/local/lib/python3.11/dist-packages (from huggingface-hub<1.0,>=0.26.0->transformers==4.50.0.dev0) (4.12.2)\n",
            "Requirement already satisfied: charset-normalizer<4,>=2 in /usr/local/lib/python3.11/dist-packages (from requests->transformers==4.50.0.dev0) (3.4.1)\n",
            "Requirement already satisfied: idna<4,>=2.5 in /usr/local/lib/python3.11/dist-packages (from requests->transformers==4.50.0.dev0) (3.10)\n",
            "Requirement already satisfied: urllib3<3,>=1.21.1 in /usr/local/lib/python3.11/dist-packages (from requests->transformers==4.50.0.dev0) (2.3.0)\n",
            "Requirement already satisfied: certifi>=2017.4.17 in /usr/local/lib/python3.11/dist-packages (from requests->transformers==4.50.0.dev0) (2025.1.31)\n",
            "Building wheels for collected packages: transformers\n",
            "  Building wheel for transformers (pyproject.toml) ... \u001b[?25l\u001b[?25hdone\n",
            "  Created wheel for transformers: filename=transformers-4.50.0.dev0-py3-none-any.whl size=10936429 sha256=b6c6251ae15fbc48d4acb04b9511f2a36296069fd19b8e817b8a25b04a4f9f4a\n",
            "  Stored in directory: /tmp/pip-ephem-wheel-cache-u1ogrkkq/wheels/53/15/d5/d63b866c641d8863f9cd29a4cc7a5efc38476c3aae8247c195\n",
            "Successfully built transformers\n",
            "Installing collected packages: transformers\n",
            "  Attempting uninstall: transformers\n",
            "    Found existing installation: transformers 4.48.3\n",
            "    Uninstalling transformers-4.48.3:\n",
            "      Successfully uninstalled transformers-4.48.3\n",
            "Successfully installed transformers-4.50.0.dev0\n"
          ]
        }
      ]
    },
    {
      "cell_type": "code",
      "source": [
        "from transformers import pipeline\n",
        "import torch\n",
        "\n",
        "pipe = pipeline(\n",
        "    \"image-text-to-text\",\n",
        "    model=\"google/gemma-3-4b-it\",\n",
        "    device=\"cuda\",\n",
        "    torch_dtype=torch.bfloat16\n",
        ")\n"
      ],
      "metadata": {
        "colab": {
          "base_uri": "https://localhost:8080/",
          "height": 208,
          "referenced_widgets": [
            "6b86f726e336467bb84f1d636569ead1",
            "8a3e6328465c40bc89b577ac6b548205",
            "f7f7d937bc0e45e288bb023bc2914302",
            "5c798c9e4a5647e289ef30b417e9b44b",
            "35dd56fdd17143b1a78119fc4527e05c",
            "3b1a244c28754b3b911cc96171410dae",
            "19483adb4cb34a8f99bb8e009c0e0fed",
            "a1823b2e528e46fdb782b1bcb98dfd8a",
            "e1598004addc414db6e262b1e95722c2",
            "d6a2973c5e924c12a9817d72f7f82f93",
            "4ff929c155ba4171a29f04816cae324c"
          ]
        },
        "id": "ejmNzSz5fgJP",
        "outputId": "33bcb8dd-9a97-4a97-f3a8-4fec8efc7401"
      },
      "execution_count": 1,
      "outputs": [
        {
          "output_type": "stream",
          "name": "stderr",
          "text": [
            "/usr/local/lib/python3.11/dist-packages/huggingface_hub/utils/_auth.py:94: UserWarning: \n",
            "The secret `HF_TOKEN` does not exist in your Colab secrets.\n",
            "To authenticate with the Hugging Face Hub, create a token in your settings tab (https://huggingface.co/settings/tokens), set it as secret in your Google Colab and restart your session.\n",
            "You will be able to reuse this secret in all of your notebooks.\n",
            "Please note that authentication is recommended but still optional to access public models or datasets.\n",
            "  warnings.warn(\n"
          ]
        },
        {
          "output_type": "display_data",
          "data": {
            "text/plain": [
              "Loading checkpoint shards:   0%|          | 0/2 [00:00<?, ?it/s]"
            ],
            "application/vnd.jupyter.widget-view+json": {
              "version_major": 2,
              "version_minor": 0,
              "model_id": "6b86f726e336467bb84f1d636569ead1"
            }
          },
          "metadata": {}
        },
        {
          "output_type": "stream",
          "name": "stderr",
          "text": [
            "Using a slow image processor as `use_fast` is unset and a slow processor was saved with this model. `use_fast=True` will be the default behavior in v4.48, even if the model was saved with a slow processor. This will result in minor differences in outputs. You'll still be able to use a slow processor with `use_fast=False`.\n",
            "Device set to use cuda\n"
          ]
        }
      ]
    },
    {
      "cell_type": "code",
      "source": [
        "messages = [\n",
        "    {\n",
        "        \"role\": \"system\",\n",
        "        \"content\": [{\"type\": \"text\", \"text\": \"You are Advanced Technical assistant.\"}]\n",
        "    },\n",
        "    {\n",
        "        \"role\": \"user\",\n",
        "        \"content\": [\n",
        "            {\"type\": \"image\", \"url\": \"/content/gemmatest2.jpg\"},\n",
        "            {\"type\": \"text\", \"text\": \"fuel pump switch connected to what explain full\"}\n",
        "        ]\n",
        "    }\n",
        "]\n",
        "\n",
        "output = pipe(text=messages, max_new_tokens=1024)\n",
        "print(output[0]['generated_text'])\n"
      ],
      "metadata": {
        "colab": {
          "base_uri": "https://localhost:8080/"
        },
        "id": "VeyoH31tfoPY",
        "outputId": "f4fc3711-2d0e-468f-e9e3-289172e70b2a"
      },
      "execution_count": 5,
      "outputs": [
        {
          "output_type": "stream",
          "name": "stdout",
          "text": [
            "[{'role': 'system', 'content': [{'type': 'text', 'text': 'You are Advanced Technical assistant.'}]}, {'role': 'user', 'content': [{'type': 'image', 'url': '/content/gemmatest2.jpg'}, {'type': 'text', 'text': 'fuel pump switch connected to what explain full'}]}, {'role': 'assistant', 'content': \"Okay, let's break down the fuel pump switch connection in this Bignic's Aircooled VW Engine Start-up Rig diagram.\\n\\n**Here's a detailed explanation of the fuel pump switch's connections:**\\n\\n1. **Source of Power:** The fuel pump switch is powered directly from the **Battery (+)**.\\n\\n2. **Fuse Protection:**  The switch is protected by a **Fuse (3-5 Amp)**. This is a critical safety feature to prevent damage to the fuel pump and electrical system if the switch malfunctions or is shorted.\\n\\n3. **Switch Connection:** The positive (+) wire from the fuse is connected to the **Fuel Pump Switch**.\\n\\n4. **Fuel Pump Switch Output:** The fuel pump switch has two output wires:\\n   *   **One wire goes to the Fuel Pump Switch (Idle)**: This is the main output wire that energizes the fuel pump when the switch is activated.\\n   *   **One wire goes to the Fuel Pump Switch (Distributor)**: This wire is used to control the fuel pump when the distributor is engaged.\\n\\n5. **Fuel Pump Relay (Not Shown):**  It's important to note that in a real system, there would likely be a relay in between the switch and the fuel pump.  The switch would activate the relay, and the relay would then provide the higher current needed to run the fuel pump.  This is a common practice to reduce the load on the switch and provide a more reliable power supply to the pump.\\n\\n**In summary, the fuel pump switch acts as a control point to turn the fuel pump on and off. It receives power from the battery, is protected by a fuse, and then sends signals to both the idle fuel pump and the distributor fuel pump.**\\n\\n**Important Considerations based on the Diagram:**\\n\\n*   **Idle Fuel Pump:** This pump provides fuel for starting and running at very low speeds.\\n*   **Distributor Fuel Pump:** This pump provides fuel for normal running speeds.\\n*   **Warning Lights:** The diagram shows that the fuel pump switch is also connected to warning lights (Oil Pressure Warn, Oil Pressure) which is a good safety feature.\\n\\n**Disclaimer:** *I am an AI Chatbot and not a certified mechanic. This analysis is based solely on the provided diagram. Always consult a qualified mechanic for any automotive repairs or modifications.*\\n\\nDo you want me to elaborate on any specific aspect of this connection, such as:\\n\\n*   The role of the relay (if one is present)?\\n*   The function of the idle and distributor fuel pumps?\"}]\n"
          ]
        }
      ]
    },
    {
      "cell_type": "code",
      "source": [
        "messages = [\n",
        "    {\n",
        "        \"role\": \"system\",\n",
        "        \"content\": [{\"type\": \"text\", \"text\": \"You are Advanced Technical assistant.\"}]\n",
        "    },\n",
        "    {\n",
        "        \"role\": \"user\",\n",
        "        \"content\": [\n",
        "            {\"type\": \"image\", \"url\": \"/content/gemmatest3.png\"},\n",
        "            {\"type\": \"text\", \"text\": \"what is siamese network and what does it mean here\"}\n",
        "        ]\n",
        "    }\n",
        "]\n",
        "\n",
        "output = pipe(text=messages, max_new_tokens=1024)\n",
        "print(output[0]['generated_text'])\n"
      ],
      "metadata": {
        "colab": {
          "base_uri": "https://localhost:8080/"
        },
        "id": "4hNwiVCdscrU",
        "outputId": "4581cce2-b178-41a3-a857-f7481fc07f1f"
      },
      "execution_count": 6,
      "outputs": [
        {
          "output_type": "stream",
          "name": "stdout",
          "text": [
            "[{'role': 'system', 'content': [{'type': 'text', 'text': 'You are Advanced Technical assistant.'}]}, {'role': 'user', 'content': [{'type': 'image', 'url': '/content/gemmatest3.png'}, {'type': 'text', 'text': 'what is siamese network and what does it mean here'}]}, {'role': 'assistant', 'content': 'Okay, let\\'s break down what a Siamese Network is and its role in this clinical trial search system, as depicted in the diagram.\\n\\n**What is a Siamese Network?**\\n\\nA Siamese Network is a type of neural network architecture used for **similarity learning**.  Here\\'s the core idea:\\n\\n*   **Two Identical Networks:** It consists of *two* identical neural networks (they share the same weights and architecture).\\n*   **Input Pairs:** It takes *two* inputs at a time – let\\'s call them input A and input B.\\n*   **Shared Embedding Space:** Both networks process their respective inputs and produce an \"embedding\" – a numerical representation of the input\\'s meaning or characteristics.  Crucially, these embeddings are generated in the *same* embedding space.\\n*   **Similarity Score:** The network then calculates a similarity score (e.g., cosine similarity) between the two embeddings.  A high score indicates that the inputs are similar.\\n\\n**How it\\'s used in this Clinical Trial System**\\n\\nIn the context of this diagram, Siamese Networks (or Contrastive Learning, which is closely related) are used in the **Feature Engineering** stage.  Here\\'s how it works:\\n\\n1.  **Data Representation:** The system needs to represent clinical trial data (text descriptions, structured data like inclusion criteria, etc.) in a way that the model can understand and compare.\\n\\n2.  **Embedding Generation:** The Siamese Network (or Contrastive Learning) is trained to generate embeddings for:\\n    *   **User Queries:** When a user enters a search query (e.g., \"treatment for Alzheimer\\'s disease\"), the network creates an embedding of that query.\\n    *   **Clinical Trials:** The network also creates embeddings for each clinical trial in the dataset.\\n\\n3.  **Similarity Search:**  The system then performs a similarity search. It calculates the cosine similarity between the user query embedding and the embeddings of all the clinical trials.  Trials with high similarity scores are considered the most relevant matches.\\n\\n**Why use Siamese Networks/Contrastive Learning here?**\\n\\n*   **Capturing Semantic Similarity:**  Unlike traditional keyword-based search, Siamese Networks can capture *semantic* similarity.  This means it can find trials that are relevant even if they don\\'t use the exact same words as the user\\'s query.  For example, it could find a trial about \"cognitive decline\" as a match for \"Alzheimer\\'s disease.\"\\n*   **Learning from Data:** The network learns to create embeddings that reflect the true relationships between clinical trials based on the data it\\'s trained on.\\n\\n**Contrastive Learning**\\n\\nIt\\'s worth noting that \"Contrastive Learning\" is often used interchangeably with Siamese Networks in this type of application.  They are closely related techniques that achieve the same goal of learning meaningful embeddings for similarity comparison.\\n\\n**In short, the Siamese Network (or Contrastive Learning) is a key component that allows the system to understand the *meaning* of clinical trials and user queries, enabling more accurate and relevant search results.**\\n\\nDo you want me to delve deeper into any specific aspect of this, such as:\\n\\n*   The training process of a Siamese Network?\\n*   The specific algorithms used (Cosine Similarity, FAISS)?\\n*   How the embeddings are combined with structured data features?'}]\n"
          ]
        }
      ]
    }
  ]
}